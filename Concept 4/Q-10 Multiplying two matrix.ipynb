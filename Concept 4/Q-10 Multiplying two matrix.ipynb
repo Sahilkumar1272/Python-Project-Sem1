{
 "cells": [
  {
   "cell_type": "markdown",
   "metadata": {},
   "source": [
    "10.Given two 3x3 matrices with values stored in two lists of length 9, find their product."
   ]
  },
  {
   "cell_type": "code",
   "execution_count": 1,
   "metadata": {},
   "outputs": [],
   "source": [
    "def matrix_multiplication(m1,m2):\n",
    "    if isinstance(m1,list) and isinstance(m1,list):\n",
    "        if len(m1)==len(m2): # checking both matrix have same order\n",
    "            M=[] # taking empty list in which i will store the result.\n",
    "            n=len(m1) # finding order of matrix.\n",
    "            for i in range(n): \n",
    "                row=[]\n",
    "                for j in range(n):\n",
    "                    element=0\n",
    "                    for k in range(n):\n",
    "                        element+=m1[i][k]*m2[k][j]\n",
    "                    row.append(element)\n",
    "                M.append(row)\n",
    "            return M\n",
    "        print('matrix have different order')\n"
   ]
  },
  {
   "cell_type": "code",
   "execution_count": 5,
   "metadata": {},
   "outputs": [
    {
     "data": {
      "text/plain": [
       "[[45, 16, 18], [114, 37, 54], [183, 58, 90]]"
      ]
     },
     "execution_count": 5,
     "metadata": {},
     "output_type": "execute_result"
    }
   ],
   "source": [
    "A=[[1,2,3],[4,5,6],[7,8,9]]\n",
    "B=[[9,0,7],[6,5,4],[8,2,1]]\n",
    "matrix_multiplication(A,B)\n"
   ]
  },
  {
   "cell_type": "code",
   "execution_count": 4,
   "metadata": {},
   "outputs": [
    {
     "data": {
      "text/plain": [
       "[[9, 12, 15], [66, 87, 96], [102, 135, 150]]"
      ]
     },
     "execution_count": 4,
     "metadata": {},
     "output_type": "execute_result"
    }
   ],
   "source": [
    "a=[[1,2,0],[4,5,6],[7,8,9]]\n",
    "b=[[1,2,3],[4,5,6],[7,9,9]]\n",
    "matrix_multiplication(a,b)"
   ]
  },
  {
   "cell_type": "code",
   "execution_count": null,
   "metadata": {},
   "outputs": [],
   "source": []
  }
 ],
 "metadata": {
  "kernelspec": {
   "display_name": "Python 3",
   "language": "python",
   "name": "python3"
  },
  "language_info": {
   "codemirror_mode": {
    "name": "ipython",
    "version": 3
   },
   "file_extension": ".py",
   "mimetype": "text/x-python",
   "name": "python",
   "nbconvert_exporter": "python",
   "pygments_lexer": "ipython3",
   "version": "3.11.4"
  }
 },
 "nbformat": 4,
 "nbformat_minor": 2
}
