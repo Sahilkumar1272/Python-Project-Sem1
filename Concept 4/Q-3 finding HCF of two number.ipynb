{
 "cells": [
  {
   "cell_type": "markdown",
   "metadata": {},
   "source": [
    "3.Given two numbers, find its Greatest Common Divisor (Divisor)."
   ]
  },
  {
   "cell_type": "code",
   "execution_count": 1,
   "metadata": {},
   "outputs": [],
   "source": [
    "def hcf(num1,num2):\n",
    "    if isinstance(num1,int) and isinstance(num2,int) and num1>=0 and num2>=0:\n",
    "        # If both number is equal then hcf is number itself.\n",
    "        if num1==num2:\n",
    "            return num1\n",
    "        elif num1==0 or num2==0: # if one of them is zero then hcf is greatest among two.\n",
    "            if num1==0:\n",
    "                return num2\n",
    "            else:\n",
    "                return num1\n",
    "        # now solving for both are different.\n",
    "        else:\n",
    "            #  range of hcf of two number is from 1 to min(num1,num2).\n",
    "            if num1<num2:\n",
    "                smaller=num1\n",
    "            else:\n",
    "                smaller=num2\n",
    "            hcf=1 # variable for storing hcf.\n",
    "            for i in range(1,smaller+1):\n",
    "                if num1%i==0 and num2%i==0:\n",
    "                    hcf=i\n",
    "            return hcf\n",
    "    # returning -1 if given input is not a non-negative integer.\n",
    "    else:\n",
    "        return -1\n",
    "                \n",
    "\n",
    "    \n"
   ]
  },
  {
   "cell_type": "code",
   "execution_count": 2,
   "metadata": {},
   "outputs": [
    {
     "data": {
      "text/plain": [
       "6"
      ]
     },
     "execution_count": 2,
     "metadata": {},
     "output_type": "execute_result"
    }
   ],
   "source": [
    "hcf(12,18)"
   ]
  },
  {
   "cell_type": "code",
   "execution_count": 3,
   "metadata": {},
   "outputs": [
    {
     "data": {
      "text/plain": [
       "1"
      ]
     },
     "execution_count": 3,
     "metadata": {},
     "output_type": "execute_result"
    }
   ],
   "source": [
    "hcf(1,34)"
   ]
  },
  {
   "cell_type": "code",
   "execution_count": 4,
   "metadata": {},
   "outputs": [
    {
     "data": {
      "text/plain": [
       "18"
      ]
     },
     "execution_count": 4,
     "metadata": {},
     "output_type": "execute_result"
    }
   ],
   "source": [
    "hcf(18,18)"
   ]
  },
  {
   "cell_type": "code",
   "execution_count": 5,
   "metadata": {},
   "outputs": [
    {
     "data": {
      "text/plain": [
       "45"
      ]
     },
     "execution_count": 5,
     "metadata": {},
     "output_type": "execute_result"
    }
   ],
   "source": [
    "hcf(45,0)"
   ]
  },
  {
   "cell_type": "code",
   "execution_count": null,
   "metadata": {},
   "outputs": [],
   "source": []
  }
 ],
 "metadata": {
  "kernelspec": {
   "display_name": "Python 3",
   "language": "python",
   "name": "python3"
  },
  "language_info": {
   "codemirror_mode": {
    "name": "ipython",
    "version": 3
   },
   "file_extension": ".py",
   "mimetype": "text/x-python",
   "name": "python",
   "nbconvert_exporter": "python",
   "pygments_lexer": "ipython3",
   "version": "3.11.4"
  }
 },
 "nbformat": 4,
 "nbformat_minor": 2
}
