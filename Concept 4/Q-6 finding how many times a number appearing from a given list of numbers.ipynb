{
 "cells": [
  {
   "cell_type": "markdown",
   "metadata": {},
   "source": [
    "6.Given a list of numbers, find out how many times each number occurs in the list."
   ]
  },
  {
   "cell_type": "code",
   "execution_count": 6,
   "metadata": {},
   "outputs": [],
   "source": [
    "def counting(l):\n",
    "    if isinstance(l,list): # Condition for given input is a list.\n",
    "        list_number=[]\n",
    "        for i in l: # Itirating each element of list one by one.\n",
    "            count=0\n",
    "            if i not in list_number: # condition for no repetition.\n",
    "                list_number.append(i)\n",
    "                for j in l:\n",
    "                    if i==j: \n",
    "                        count=count+1\n",
    "\n",
    "                print(i,'appears',count,'times.')\n",
    "    "
   ]
  },
  {
   "cell_type": "code",
   "execution_count": 7,
   "metadata": {},
   "outputs": [
    {
     "name": "stdout",
     "output_type": "stream",
     "text": [
      "1 appears 2 times.\n",
      "3 appears 3 times.\n",
      "5 appears 1 times.\n",
      "6 appears 1 times.\n",
      "7 appears 1 times.\n",
      "9 appears 1 times.\n",
      "4 appears 1 times.\n",
      "16 appears 1 times.\n",
      "34 appears 1 times.\n"
     ]
    }
   ],
   "source": [
    "l=[1,3,1,5,6,3,7,9,4,3,16,34]\n",
    "counting(l)"
   ]
  },
  {
   "cell_type": "code",
   "execution_count": 8,
   "metadata": {},
   "outputs": [
    {
     "name": "stdout",
     "output_type": "stream",
     "text": [
      "-7 appears 2 times.\n",
      "0 appears 1 times.\n",
      "7 appears 1 times.\n",
      "4 appears 1 times.\n"
     ]
    }
   ],
   "source": [
    "counting([-7,0,7,4,-7])"
   ]
  },
  {
   "cell_type": "code",
   "execution_count": null,
   "metadata": {},
   "outputs": [],
   "source": []
  }
 ],
 "metadata": {
  "kernelspec": {
   "display_name": "Python 3",
   "language": "python",
   "name": "python3"
  },
  "language_info": {
   "codemirror_mode": {
    "name": "ipython",
    "version": 3
   },
   "file_extension": ".py",
   "mimetype": "text/x-python",
   "name": "python",
   "nbconvert_exporter": "python",
   "pygments_lexer": "ipython3",
   "version": "3.11.4"
  }
 },
 "nbformat": 4,
 "nbformat_minor": 2
}
