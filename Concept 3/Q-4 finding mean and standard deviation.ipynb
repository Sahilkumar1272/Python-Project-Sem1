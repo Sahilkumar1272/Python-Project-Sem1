{
 "cells": [
  {
   "cell_type": "markdown",
   "metadata": {},
   "source": [
    "4.Given a list of numbers, find out the mean and standard deviation."
   ]
  },
  {
   "cell_type": "code",
   "execution_count": 3,
   "metadata": {},
   "outputs": [],
   "source": [
    "def mean_sd(l):\n",
    "    if isinstance(l,list) and len(l)!=0: # condition for given input is a list and list is not empty.\n",
    "        add=0  # variable for sum of all numbers.\n",
    "        for i in l:\n",
    "            add=add+i \n",
    "        mean=add/len(l) # finding mean.\n",
    "        deviation=0  # variable for finding standard deviation\n",
    "        for j in l:\n",
    "            deviation=deviation+(mean-j)**2\n",
    "        standard_deviation=(deviation/len(l))**0.5 # calculating standard deviation .\n",
    "        return (f\"Mean is {mean} and standard deviation is {standard_deviation}\")\n",
    "    else:\n",
    "        return 'please enter a valid list of number'"
   ]
  },
  {
   "cell_type": "code",
   "execution_count": 2,
   "metadata": {},
   "outputs": [
    {
     "data": {
      "text/plain": [
       "'Mean is 5.0 and standard deviation is 2.0'"
      ]
     },
     "execution_count": 2,
     "metadata": {},
     "output_type": "execute_result"
    }
   ],
   "source": [
    "mean_sd([4,2,5,8,6])"
   ]
  },
  {
   "cell_type": "code",
   "execution_count": 4,
   "metadata": {},
   "outputs": [
    {
     "data": {
      "text/plain": [
       "'please enter a valid list of number'"
      ]
     },
     "execution_count": 4,
     "metadata": {},
     "output_type": "execute_result"
    }
   ],
   "source": [
    "mean_sd([])"
   ]
  },
  {
   "cell_type": "code",
   "execution_count": 5,
   "metadata": {},
   "outputs": [
    {
     "data": {
      "text/plain": [
       "'Mean is 19.6 and standard deviation is 16.280049139974977'"
      ]
     },
     "execution_count": 5,
     "metadata": {},
     "output_type": "execute_result"
    }
   ],
   "source": [
    "a=[2,7,12,32,45]\n",
    "mean_sd(a)"
   ]
  }
 ],
 "metadata": {
  "kernelspec": {
   "display_name": "Python 3",
   "language": "python",
   "name": "python3"
  },
  "language_info": {
   "codemirror_mode": {
    "name": "ipython",
    "version": 3
   },
   "file_extension": ".py",
   "mimetype": "text/x-python",
   "name": "python",
   "nbconvert_exporter": "python",
   "pygments_lexer": "ipython3",
   "version": "3.11.4"
  }
 },
 "nbformat": 4,
 "nbformat_minor": 2
}
