{
 "cells": [
  {
   "cell_type": "markdown",
   "metadata": {},
   "source": [
    "2.Given a list of numbers, find out the median and mode."
   ]
  },
  {
   "cell_type": "code",
   "execution_count": 1,
   "metadata": {},
   "outputs": [],
   "source": [
    "def median(l):\n",
    "    if isinstance(l,list):# checking given input is a list of number.\n",
    "        # for calculating median first of all I have to sort the given list either in ascending or descending order.\n",
    "        n=len(l) # calculating the length of list.\n",
    "        if n==0:\n",
    "            return None\n",
    "        else:\n",
    "            for i in range(n):\n",
    "                for j in range(n-i-1): \n",
    "                    if l[j]>l[j+1]:\n",
    "                        l[j],l[j+1]=l[j+1],l[j]\n",
    "        # If length of list is even then median is average of two middle number.\n",
    "        # If length is odd then median is middle most.\n",
    "        if n%2==0:\n",
    "            median=(l[int(n/2)]+l[int(n/2-1)])/2\n",
    "            return median\n",
    "        else:\n",
    "            median=l[int((n+1)/2)-1]\n",
    "            return median\n",
    "    "
   ]
  },
  {
   "cell_type": "code",
   "execution_count": 2,
   "metadata": {},
   "outputs": [
    {
     "data": {
      "text/plain": [
       "13"
      ]
     },
     "execution_count": 2,
     "metadata": {},
     "output_type": "execute_result"
    }
   ],
   "source": [
    "l=[3,13,2,34,11,26,47]\n",
    "median(l)"
   ]
  },
  {
   "cell_type": "code",
   "execution_count": 3,
   "metadata": {},
   "outputs": [
    {
     "data": {
      "text/plain": [
       "60"
      ]
     },
     "execution_count": 3,
     "metadata": {},
     "output_type": "execute_result"
    }
   ],
   "source": [
    "lst = [35,24,10,56,74,35,100,6,100,94,85,60,35,100,100]\n",
    "median(lst)"
   ]
  },
  {
   "cell_type": "code",
   "execution_count": 4,
   "metadata": {},
   "outputs": [
    {
     "data": {
      "text/plain": [
       "5.5"
      ]
     },
     "execution_count": 4,
     "metadata": {},
     "output_type": "execute_result"
    }
   ],
   "source": [
    "a=[2,3,5,5,6,7,8,9]\n",
    "median(a)"
   ]
  },
  {
   "cell_type": "code",
   "execution_count": 1,
   "metadata": {},
   "outputs": [],
   "source": [
    "def mode(l):\n",
    "    if isinstance(l,list):# condition for checking the given input is a list of number.\n",
    "        l_unique=[] # In this empty list I will append unique element of given list.\n",
    "        for i in l: # Iterating each element of given list.\n",
    "            if i not in l_unique: # checking this element is not present in empty list.\n",
    "                l_unique.append(i)  # appending element in empty list.\n",
    "        tempt=0 # A temporary variable which i will use for mode.\n",
    "        for j in l_unique: # Iterating each element of unique list for counting occurence of each element.\n",
    "            count=0 # Variable for counting.\n",
    "            for k in l:\n",
    "                if j==k: \n",
    "                    count=count+1\n",
    "            if tempt<count: # Condition for comparing occurence of one element with occurence of other element.\n",
    "                tempt=count\n",
    "                mode=j\n",
    "        return mode\n",
    "    "
   ]
  },
  {
   "cell_type": "code",
   "execution_count": 4,
   "metadata": {},
   "outputs": [
    {
     "data": {
      "text/plain": [
       "1"
      ]
     },
     "execution_count": 4,
     "metadata": {},
     "output_type": "execute_result"
    }
   ],
   "source": [
    "l=[3,13,2,34,11,3,3,1,1,1,1,1,126,47]\n",
    "mode(l)"
   ]
  },
  {
   "cell_type": "code",
   "execution_count": 6,
   "metadata": {},
   "outputs": [
    {
     "data": {
      "text/plain": [
       "100"
      ]
     },
     "execution_count": 6,
     "metadata": {},
     "output_type": "execute_result"
    }
   ],
   "source": [
    "lst = [35,24,10,56,74,35,100,6,100,94,85,60,35,100,100]\n",
    "mode(lst)"
   ]
  },
  {
   "cell_type": "code",
   "execution_count": null,
   "metadata": {},
   "outputs": [],
   "source": []
  }
 ],
 "metadata": {
  "kernelspec": {
   "display_name": "Python 3",
   "language": "python",
   "name": "python3"
  },
  "language_info": {
   "codemirror_mode": {
    "name": "ipython",
    "version": 3
   },
   "file_extension": ".py",
   "mimetype": "text/x-python",
   "name": "python",
   "nbconvert_exporter": "python",
   "pygments_lexer": "ipython3",
   "version": "3.11.4"
  }
 },
 "nbformat": 4,
 "nbformat_minor": 2
}
