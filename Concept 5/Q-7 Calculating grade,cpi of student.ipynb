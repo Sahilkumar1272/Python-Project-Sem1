{
 "cells": [
  {
   "cell_type": "markdown",
   "metadata": {},
   "source": [
    "7.Write a for loop to create another dictionary from the above where the marks are replaced by grades. Above 80 is A grade, 60–80 is B grade, 40–60 is C grade, and below 40 is F. Create another dictionary to store the max and average marks for each student. Use this dictionary to compute the final CPI/CGPA of the student. Course1 is of 4 credits, Course2 of 10 credits, and Course3 of 6 credits. Store these credits in a list. Write this dictionary as a json file, and read it back into a new dictionary."
   ]
  },
  {
   "cell_type": "code",
   "execution_count": 3,
   "metadata": {},
   "outputs": [
    {
     "name": "stdout",
     "output_type": "stream",
     "text": [
      "{'Ram': ['A', 'A', 'B'], 'Shyam': ['C', 'B', 'A'], 'Sita': ['B', 'B', 'C'], 'Rahul': ['C', 'F', 'A'], 'Raj': ['C', 'B', 'A']}\n"
     ]
    }
   ],
   "source": [
    "student_marks={'Ram':[90,80,70],\n",
    "               'Shyam':[50,75,95],\n",
    "               'Sita':[78,67,45],\n",
    "               'Rahul':[40,30,99],\n",
    "               'Raj':[56,78,90]}\n",
    "# Copying above dictionary in a new dictionary for further changes\n",
    "import copy\n",
    "student_grade=copy.deepcopy(student_marks)\n",
    "# taking marks of each student one by one.\n",
    "for marks in student_grade.values():\n",
    "    for i in range(len(marks)): \n",
    "        if marks[i]>=80: # condition if mark is greater than or equal to 80 then update it by A\n",
    "            marks[i]=\"A\"\n",
    "# condition if mark is in between 60 to 80 then update by B\n",
    "        elif marks[i]>=60:\n",
    "            marks[i]=\"B\"\n",
    "# condition if mark is in between 40 to 60 then update by C\n",
    "        elif marks[i]>=40:\n",
    "            marks[i]=\"C\"\n",
    "        else:\n",
    "            marks[i]='F'\n",
    "print(student_grade)\n"
   ]
  },
  {
   "cell_type": "code",
   "execution_count": 5,
   "metadata": {},
   "outputs": [
    {
     "name": "stdout",
     "output_type": "stream",
     "text": [
      "Student Name:- Ram\n",
      "CPI:- 9.7\n",
      "\n",
      "\n",
      "Student Name:- Shyam\n",
      "CPI:- 9.1\n",
      "\n",
      "\n",
      "Student Name:- Sita\n",
      "CPI:- 8.7\n",
      "\n",
      "\n",
      "Student Name:- Rahul\n",
      "CPI:- 4.6\n",
      "\n",
      "\n",
      "Student Name:- Raj\n",
      "CPI:- 9.1\n",
      "\n",
      "\n"
     ]
    }
   ],
   "source": [
    "grade_point={'A':10,'B':9,'C':8,'F':0} # Here I have created a dictionary in which i am storing corresponding point of a grade\n",
    "course_credit=[4,10,6]\n",
    "# finding sum of all credit.\n",
    "add=0\n",
    "for i in course_credit:\n",
    "    add+=i\n",
    "for key,value in student_grade.items():\n",
    "    print(\"Student Name:-\",key)\n",
    "    a=0 # here i am initialising a variable for addition of total credit of a student.\n",
    "    for j in range(len(value)):\n",
    "        a+=grade_point[value[j]]*course_credit[j]\n",
    "    print(\"CPI:-\",a/add)\n",
    "    print('\\n')"
   ]
  },
  {
   "cell_type": "code",
   "execution_count": null,
   "metadata": {},
   "outputs": [],
   "source": []
  }
 ],
 "metadata": {
  "kernelspec": {
   "display_name": "Python 3",
   "language": "python",
   "name": "python3"
  },
  "language_info": {
   "codemirror_mode": {
    "name": "ipython",
    "version": 3
   },
   "file_extension": ".py",
   "mimetype": "text/x-python",
   "name": "python",
   "nbconvert_exporter": "python",
   "pygments_lexer": "ipython3",
   "version": "3.11.4"
  }
 },
 "nbformat": 4,
 "nbformat_minor": 2
}
