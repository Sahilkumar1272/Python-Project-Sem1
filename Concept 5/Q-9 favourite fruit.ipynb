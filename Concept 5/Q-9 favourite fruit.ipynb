{
 "cells": [
  {
   "cell_type": "markdown",
   "metadata": {},
   "source": [
    "9.Create a dictionary whose keys are the names of your family members and friends, and the values are the list of fruits they like to eat. Now if the user gives a fruit as input, the code should print the list of names who like this fruit. Write another code to print the list of people who do not like this fruit. Using this dictionary as input, write a code to make a consolidated list of all the fruit names present in the values of various keys. This list should not have any duplicate entries. Do not use the set() function."
   ]
  },
  {
   "cell_type": "code",
   "execution_count": 5,
   "metadata": {},
   "outputs": [
    {
     "name": "stdout",
     "output_type": "stream",
     "text": [
      " who like given fruit ['sahil', 'Soni', 'mummy', 'papa']\n",
      "\n",
      "\n",
      " who do not like given fruit []\n",
      "\n",
      "\n",
      "list of fruit ['apple', 'mango', 'banana', 'watermelon', 'orange', 'guava', 'pineapple', 'papaya']\n"
     ]
    }
   ],
   "source": [
    "family_member={'sahil':['apple','mango','banana','watermelon','orange'],\n",
    "               'Soni':['mango','guava','orange'],\n",
    "               'mummy':['mango','pineapple','papaya'],\n",
    "               'papa':['apple','mango','papaya']}\n",
    "fruit=input(\"Enter the fruit name:-\") # Taking input from user.\n",
    "a=fruit.lower() # converting name of fruit in lower case.\n",
    "like=[] \n",
    "unlike=[]\n",
    "for i,j in family_member.items(): \n",
    "    if a in j:\n",
    "        like.append(i)\n",
    "    else:\n",
    "        unlike.append(i)\n",
    "print(' who like given fruit',like)\n",
    "print('\\n')\n",
    "print(' who do not like given fruit',unlike)\n",
    "print('\\n')\n",
    "# now i am making list of all fruit.\n",
    "fruit_list=[]\n",
    "for fruit in family_member.values():\n",
    "    for i in fruit: # Running for loop in value of each key.\n",
    "        if i not in fruit_list: # this is for avoid repeatition.\n",
    "            fruit_list.append(i)\n",
    "print('list of fruit',fruit_list)\n"
   ]
  },
  {
   "cell_type": "markdown",
   "metadata": {},
   "source": []
  }
 ],
 "metadata": {
  "kernelspec": {
   "display_name": "Python 3",
   "language": "python",
   "name": "python3"
  },
  "language_info": {
   "codemirror_mode": {
    "name": "ipython",
    "version": 3
   },
   "file_extension": ".py",
   "mimetype": "text/x-python",
   "name": "python",
   "nbconvert_exporter": "python",
   "pygments_lexer": "ipython3",
   "version": "3.11.4"
  }
 },
 "nbformat": 4,
 "nbformat_minor": 2
}
