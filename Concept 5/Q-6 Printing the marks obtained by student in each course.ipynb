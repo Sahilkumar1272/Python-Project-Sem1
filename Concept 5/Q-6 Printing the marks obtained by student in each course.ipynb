{
 "cells": [
  {
   "cell_type": "markdown",
   "metadata": {},
   "source": [
    "6.Create a dictionary to store the total marks of 5 students in the class in 3 subjects (Course1, Course2, Course3). The keys must be the student names, and the values must be the list of marks. Create another list which has the course names in the same order as the marks are stored in the dictionary values. Now write a nested for loop to print the marks for each student exam wise.\n",
    "Student1\n",
    "Course1 marks : 82\n",
    "Course2 marks : 84\n",
    "Course3 marks : 72\n",
    "Student2\n",
    "Course1 marks : 87\n",
    "Course2 marks : 83\n",
    "Course3 marks : 78"
   ]
  },
  {
   "cell_type": "code",
   "execution_count": 3,
   "metadata": {},
   "outputs": [
    {
     "name": "stdout",
     "output_type": "stream",
     "text": [
      "Ram\n",
      "Physics Marks : 90\n",
      "Maths Marks : 80\n",
      "Chemistry Marks : 70\n",
      "\n",
      "\n",
      "Shyam\n",
      "Physics Marks : 50\n",
      "Maths Marks : 75\n",
      "Chemistry Marks : 95\n",
      "\n",
      "\n",
      "Sita\n",
      "Physics Marks : 78\n",
      "Maths Marks : 67\n",
      "Chemistry Marks : 45\n",
      "\n",
      "\n",
      "Rahul\n",
      "Physics Marks : 40\n",
      "Maths Marks : 30\n",
      "Chemistry Marks : 99\n",
      "\n",
      "\n",
      "Raj\n",
      "Physics Marks : 56\n",
      "Maths Marks : 78\n",
      "Chemistry Marks : 90\n",
      "\n",
      "\n"
     ]
    }
   ],
   "source": [
    "student_marks={'Ram':[90,80,70],\n",
    "               'Shyam':[50,75,95],\n",
    "               'Sita':[78,67,45],\n",
    "               'Rahul':[40,30,99],\n",
    "               'Raj':[56,78,90]}\n",
    "course_name=['Physics','Maths',\"Chemistry\"]\n",
    "# for loop for taking student name and their corresponding marks one by one.\n",
    "for name,marks in student_marks.items():\n",
    "    print(name)\n",
    "    for i in range(len(course_name)): \n",
    "        print(course_name[i],'Marks :',marks[i])\n",
    "    print('\\n')"
   ]
  },
  {
   "cell_type": "code",
   "execution_count": null,
   "metadata": {},
   "outputs": [],
   "source": []
  }
 ],
 "metadata": {
  "kernelspec": {
   "display_name": "Python 3",
   "language": "python",
   "name": "python3"
  },
  "language_info": {
   "codemirror_mode": {
    "name": "ipython",
    "version": 3
   },
   "file_extension": ".py",
   "mimetype": "text/x-python",
   "name": "python",
   "nbconvert_exporter": "python",
   "pygments_lexer": "ipython3",
   "version": "3.11.4"
  }
 },
 "nbformat": 4,
 "nbformat_minor": 2
}
