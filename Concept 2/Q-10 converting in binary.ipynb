{
 "cells": [
  {
   "cell_type": "code",
   "execution_count": 2,
   "metadata": {},
   "outputs": [],
   "source": [
    "def binary(num):\n",
    "    if isinstance(num,int) and num>0: # checking given condition is a positive integer.\n",
    "        l=[] # a empty list in which i will append the remainder.\n",
    "        while num>0: # I am running while until my number is positive.\n",
    "            l.append(num%2) # I am appending the remainder in l.\n",
    "            num=num//2 # updating number each time\n",
    "        for j in range(len(l)): # I am running for loop \n",
    "            print(l[len(l)-j-1],end='')"
   ]
  },
  {
   "cell_type": "code",
   "execution_count": 3,
   "metadata": {},
   "outputs": [
    {
     "name": "stdout",
     "output_type": "stream",
     "text": [
      "10011010010"
     ]
    }
   ],
   "source": [
    "binary(1234)"
   ]
  },
  {
   "cell_type": "code",
   "execution_count": 4,
   "metadata": {},
   "outputs": [
    {
     "name": "stdout",
     "output_type": "stream",
     "text": [
      "10111"
     ]
    }
   ],
   "source": [
    "binary(23)"
   ]
  },
  {
   "cell_type": "code",
   "execution_count": null,
   "metadata": {},
   "outputs": [],
   "source": []
  }
 ],
 "metadata": {
  "kernelspec": {
   "display_name": "Python 3",
   "language": "python",
   "name": "python3"
  },
  "language_info": {
   "codemirror_mode": {
    "name": "ipython",
    "version": 3
   },
   "file_extension": ".py",
   "mimetype": "text/x-python",
   "name": "python",
   "nbconvert_exporter": "python",
   "pygments_lexer": "ipython3",
   "version": "3.11.4"
  }
 },
 "nbformat": 4,
 "nbformat_minor": 2
}
