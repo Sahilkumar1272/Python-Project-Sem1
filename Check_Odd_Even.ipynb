{
 "cells": [
  {
   "cell_type": "markdown",
   "metadata": {},
   "source": [
    "1.Given an integer, check if it is even or odd."
   ]
  },
  {
   "cell_type": "code",
   "execution_count": 10,
   "metadata": {},
   "outputs": [
    {
     "name": "stdout",
     "output_type": "stream",
     "text": [
      "Odd\n"
     ]
    }
   ],
   "source": [
    "#Taking input from user.\n",
    "num=int(input('Enter an integer'))\n",
    "# Even and odd is defined for non-negative integer. \n",
    "# Even is divisible by 2.\n",
    "if(num>=0):\n",
    "    if(num%2==0):\n",
    "        print(\"Even\")\n",
    "    else:\n",
    "        print(\"Odd\")\n",
    "else:\n",
    "    print(\"Please enter non-negative integer\")\n",
    "\n"
   ]
  },
  {
   "cell_type": "markdown",
   "metadata": {},
   "source": [
    "# TestCases Are:\n",
    "Input:5\n",
    "\n",
    "Output: Odd\n",
    "\n",
    "Input:8\n",
    "\n",
    "Output: Even\n",
    "\n",
    "Input:0\n",
    "\n",
    "Output: Even\n",
    "\n",
    "Input:-7\n",
    "\n",
    "Output: please,enter non-negative integer\n",
    "\n",
    "Input:-1\n",
    "\n",
    "Output: please,enter non-negative integer\n",
    "\n",
    "\n"
   ]
  }
 ],
 "metadata": {
  "kernelspec": {
   "display_name": "Python 3",
   "language": "python",
   "name": "python3"
  },
  "language_info": {
   "codemirror_mode": {
    "name": "ipython",
    "version": 3
   },
   "file_extension": ".py",
   "mimetype": "text/x-python",
   "name": "python",
   "nbconvert_exporter": "python",
   "pygments_lexer": "ipython3",
   "version": "3.11.4"
  }
 },
 "nbformat": 4,
 "nbformat_minor": 2
}
