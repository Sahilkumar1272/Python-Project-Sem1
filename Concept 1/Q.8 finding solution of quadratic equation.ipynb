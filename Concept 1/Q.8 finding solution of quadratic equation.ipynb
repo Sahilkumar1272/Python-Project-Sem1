{
 "cells": [
  {
   "cell_type": "markdown",
   "metadata": {},
   "source": [
    "8.Given a quadratic equation with coefficients a, b and c, find the two solutions (may be real or complex). You should not take the square root of a negative number in your code."
   ]
  },
  {
   "cell_type": "code",
   "execution_count": 12,
   "metadata": {},
   "outputs": [],
   "source": [
    "def quadratic_solution(a,b,c):\n",
    "    # a is coefficient of x2 , b is coefficient of x and c is constant term.\n",
    "    if a!=0:  # condition if given expression is quadratic.\n",
    "        D=b**2-4*a*c # calculating discriminant\n",
    "        if D>=0: # condition for real root.\n",
    "            root1=(-b+(D)**0.5)/2*a\n",
    "            root2=(-b-(D)**0.5)/2*a\n",
    "            return root1 , root2\n",
    "        # if roots are imaginary.\n",
    "        # as it is said that i can not take the square root of a negative number so i am calculating imaginary and real part separately by converting it in string.\n",
    "        else:\n",
    "            root1=str(-b/2*a)+'+'+str(((-D)**0.5)/2*a)+'i'\n",
    "            root2=str(-b/2*a)+'-'+str(((-D)**0.5)/2*a)+'i'\n",
    "            print(root1)\n",
    "            print(root2)\n",
    "    elif a==0: # If our expression is linear\n",
    "        return -c/b\n",
    "\n",
    "\n",
    "\n",
    "\n"
   ]
  },
  {
   "cell_type": "code",
   "execution_count": 13,
   "metadata": {},
   "outputs": [
    {
     "name": "stdout",
     "output_type": "stream",
     "text": [
      "-0.5+0.8660254037844386i\n",
      "-0.5-0.8660254037844386i\n"
     ]
    }
   ],
   "source": [
    "quadratic_solution(1,1,1)"
   ]
  },
  {
   "cell_type": "code",
   "execution_count": 14,
   "metadata": {},
   "outputs": [
    {
     "data": {
      "text/plain": [
       "-0.25"
      ]
     },
     "execution_count": 14,
     "metadata": {},
     "output_type": "execute_result"
    }
   ],
   "source": [
    "quadratic_solution(0,4,1)"
   ]
  },
  {
   "cell_type": "code",
   "execution_count": 16,
   "metadata": {},
   "outputs": [
    {
     "data": {
      "text/plain": [
       "(2.0, 2.0)"
      ]
     },
     "execution_count": 16,
     "metadata": {},
     "output_type": "execute_result"
    }
   ],
   "source": [
    "quadratic_solution(1,-4,4)"
   ]
  },
  {
   "cell_type": "code",
   "execution_count": 17,
   "metadata": {},
   "outputs": [
    {
     "data": {
      "text/plain": [
       "(18.0, 12.0)"
      ]
     },
     "execution_count": 17,
     "metadata": {},
     "output_type": "execute_result"
    }
   ],
   "source": [
    "quadratic_solution(3,-10,8)"
   ]
  },
  {
   "cell_type": "code",
   "execution_count": 18,
   "metadata": {},
   "outputs": [
    {
     "data": {
      "text/plain": [
       "(-1.0, -1.0)"
      ]
     },
     "execution_count": 18,
     "metadata": {},
     "output_type": "execute_result"
    }
   ],
   "source": [
    "quadratic_solution(1,2,1)"
   ]
  },
  {
   "cell_type": "code",
   "execution_count": 19,
   "metadata": {},
   "outputs": [
    {
     "name": "stdout",
     "output_type": "stream",
     "text": [
      "2.0+5.291502622129181i\n",
      "2.0-5.291502622129181i\n"
     ]
    }
   ],
   "source": [
    "quadratic_solution(2,-2,4)"
   ]
  },
  {
   "cell_type": "code",
   "execution_count": null,
   "metadata": {},
   "outputs": [],
   "source": []
  }
 ],
 "metadata": {
  "kernelspec": {
   "display_name": "Python 3",
   "language": "python",
   "name": "python3"
  },
  "language_info": {
   "codemirror_mode": {
    "name": "ipython",
    "version": 3
   },
   "file_extension": ".py",
   "mimetype": "text/x-python",
   "name": "python",
   "nbconvert_exporter": "python",
   "pygments_lexer": "ipython3",
   "version": "3.11.4"
  }
 },
 "nbformat": 4,
 "nbformat_minor": 2
}
