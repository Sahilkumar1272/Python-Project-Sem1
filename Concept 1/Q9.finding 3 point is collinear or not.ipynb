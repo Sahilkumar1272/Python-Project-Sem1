{
 "cells": [
  {
   "cell_type": "markdown",
   "metadata": {},
   "source": [
    "9.Given three points, find out whether they lie on the same straight line or not."
   ]
  },
  {
   "cell_type": "code",
   "execution_count": 5,
   "metadata": {},
   "outputs": [],
   "source": [
    "def same_line(x1,y1,x2,y2,x3,y3):\n",
    "    # if x-coordinate of all the points are equal then all lies on same line.\n",
    "    # I am returning 1 if points lie on same straight line and returning 0 if they do not lie on same straight line.\n",
    "    if x1==x2==x3:\n",
    "        return 1 \n",
    "    # if two of them have same x-coordinate and one has different then point are not on same straight line.\n",
    "    elif x1==x2!=x3 or x1==x3!=x2 or x2==x3!=x1:\n",
    "        return 0\n",
    "    # if above two conditions are not satisfying it means all have different x-coordinate.\n",
    "    # i will calculate slope of 1st and 2nd point as well as 2nd and 3rd point then compare them if slopes are same then they lie on same straight line otherwise not.\n",
    "    else:\n",
    "        s1=(y2-y1)/(x2-x1)\n",
    "        s2=(y3-y2)/(x3-x2)\n",
    "        if s1==s2:\n",
    "            return 1\n",
    "        else:\n",
    "            return 0\n"
   ]
  },
  {
   "cell_type": "code",
   "execution_count": 6,
   "metadata": {},
   "outputs": [
    {
     "data": {
      "text/plain": [
       "0"
      ]
     },
     "execution_count": 6,
     "metadata": {},
     "output_type": "execute_result"
    }
   ],
   "source": [
    "same_line(3,4,6,3,9,3)"
   ]
  },
  {
   "cell_type": "code",
   "execution_count": 7,
   "metadata": {},
   "outputs": [
    {
     "data": {
      "text/plain": [
       "1"
      ]
     },
     "execution_count": 7,
     "metadata": {},
     "output_type": "execute_result"
    }
   ],
   "source": [
    "same_line(2,3,2,4,2,6)"
   ]
  },
  {
   "cell_type": "code",
   "execution_count": 8,
   "metadata": {},
   "outputs": [
    {
     "data": {
      "text/plain": [
       "1"
      ]
     },
     "execution_count": 8,
     "metadata": {},
     "output_type": "execute_result"
    }
   ],
   "source": [
    "same_line(23,-8,56,-8,78,-8)"
   ]
  },
  {
   "cell_type": "code",
   "execution_count": 10,
   "metadata": {},
   "outputs": [
    {
     "data": {
      "text/plain": [
       "0"
      ]
     },
     "execution_count": 10,
     "metadata": {},
     "output_type": "execute_result"
    }
   ],
   "source": [
    "same_line(23,56,12,5,34,12)"
   ]
  }
 ],
 "metadata": {
  "kernelspec": {
   "display_name": "Python 3",
   "language": "python",
   "name": "python3"
  },
  "language_info": {
   "codemirror_mode": {
    "name": "ipython",
    "version": 3
   },
   "file_extension": ".py",
   "mimetype": "text/x-python",
   "name": "python",
   "nbconvert_exporter": "python",
   "pygments_lexer": "ipython3",
   "version": "3.11.4"
  }
 },
 "nbformat": 4,
 "nbformat_minor": 2
}
